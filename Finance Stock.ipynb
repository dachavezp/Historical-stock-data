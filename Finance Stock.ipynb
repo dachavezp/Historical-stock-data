{
  "nbformat": 4,
  "nbformat_minor": 0,
  "metadata": {
    "colab": {
      "provenance": []
    },
    "kernelspec": {
      "name": "python3",
      "display_name": "Python 3"
    },
    "language_info": {
      "name": "python"
    }
  },
  "cells": [
    {
      "cell_type": "code",
      "execution_count": null,
      "metadata": {
        "colab": {
          "base_uri": "https://localhost:8080/"
        },
        "id": "16W43s84X4E5",
        "outputId": "6c6f8b39-e76c-43f5-9c4b-422133fa80d7"
      },
      "outputs": [
        {
          "output_type": "stream",
          "name": "stderr",
          "text": [
            "\r[*********************100%***********************]  1 of 1 completed"
          ]
        },
        {
          "output_type": "stream",
          "name": "stdout",
          "text": [
            "read  1258  lines of data for ticker:  AAPL\n",
            "wrote 1258 lines to file: /content/AAPL.csv\n"
          ]
        },
        {
          "output_type": "stream",
          "name": "stderr",
          "text": [
            "\n"
          ]
        }
      ],
      "source": [
        "\n",
        "# install yfinance version 0.1.62\n",
        "#   !pip install yfinance==0.1.62\n",
        "# run this  !pip install pandas_datareader\n",
        "from pandas_datareader import data as web\n",
        "import os\n",
        "import pandas as pd\n",
        "import yfinance as yf\n",
        "\n",
        "def get_stock(ticker, start_date, end_date, s_window, l_window):\n",
        "    try:\n",
        "#       yf.pdr_override()\n",
        "        df = yf.download(ticker, start=start_date, end=end_date)\n",
        "# can use this as well        df = web.get_data_yahoo(ticker, start=start_date, end=end_date)\n",
        "        df['Return'] = df['Adj Close'].pct_change()\n",
        "        df['Return'].fillna(0, inplace = True)\n",
        "        df['Date'] = df.index\n",
        "        df['Date'] = pd.to_datetime(df['Date'])\n",
        "        df['Month'] = df['Date'].dt.month\n",
        "        df['Year'] = df['Date'].dt.year\n",
        "        df['Day'] = df['Date'].dt.day\n",
        "        for col in ['Open', 'High', 'Low', 'Close', 'Adj Close']:\n",
        "            df[col] = df[col].round(2)\n",
        "        df['Weekday'] = df['Date'].dt.day_name()\n",
        "        df['Week_Number'] = df['Date'].dt.strftime('%U')\n",
        "        df['Year_Week'] = df['Date'].dt.strftime('%Y-%U')\n",
        "        df['Short_MA'] = df['Adj Close'].rolling(window=s_window, min_periods=1).mean()\n",
        "        df['Long_MA'] = df['Adj Close'].rolling(window=l_window, min_periods=1).mean()\n",
        "        col_list = ['Date', 'Year', 'Month', 'Day', 'Weekday',\n",
        "                    'Week_Number', 'Year_Week', 'Open',\n",
        "                    'High', 'Low', 'Close', 'Volume', 'Adj Close',\n",
        "                    'Return', 'Short_MA', 'Long_MA']\n",
        "        num_lines = len(df)\n",
        "        df = df[col_list]\n",
        "        print('read ', num_lines, ' lines of data for ticker: ' , ticker)\n",
        "        return df\n",
        "    except Exception as error:\n",
        "        print(error)\n",
        "        return None\n",
        "\n",
        "try:\n",
        "    ticker=\"AAPL\"\n",
        "    input_dir = os.getcwd()\n",
        "    output_file = os.path.join(input_dir, ticker + '.csv')\n",
        "    df = get_stock(ticker, start_date='2019-01-01', end_date='2023-12-31',\n",
        "               s_window=14, l_window=50)\n",
        "    df.to_csv(output_file, index=False)\n",
        "    print('wrote ' + str(len(df)) + ' lines to file: ' + output_file)\n",
        "except Exception as e:\n",
        "    print(e)\n",
        "    print('failed to get Yahoo stock data for ticker: ', ticker)\n",
        "\n"
      ]
    },
    {
      "cell_type": "code",
      "source": [
        "import os\n",
        "\n",
        "ticker = 'AAPL'\n",
        "input_dir = '/content'\n",
        "ticker_file = os.path.join(input_dir, ticker + '.csv')\n",
        "\n",
        "try:\n",
        "    with open(ticker_file) as f:\n",
        "        lines = f.read().splitlines()\n",
        "    print('Opened file for ticker:', ticker)\n",
        "\n",
        "    # You can process the lines here as needed\n",
        "    for line in lines[:5]:  # Displaying first 5 lines for a quick check\n",
        "        print(line)\n",
        "\n",
        "except Exception as e:\n",
        "    print(e)\n",
        "    print('Failed to read stock data for ticker:', ticker)"
      ],
      "metadata": {
        "colab": {
          "base_uri": "https://localhost:8080/"
        },
        "id": "ytZrRAiHZCA3",
        "outputId": "47ec86b0-af27-4d67-8947-86d6b5373131"
      },
      "execution_count": null,
      "outputs": [
        {
          "output_type": "stream",
          "name": "stdout",
          "text": [
            "Opened file for ticker: AAPL\n",
            "Date,Year,Month,Day,Weekday,Week_Number,Year_Week,Open,High,Low,Close,Volume,Adj Close,Return,Short_MA,Long_MA\n",
            "2019-01-02,2019,1,2,Wednesday,00,2019-00,38.72,39.71,38.56,39.48,148158800,37.75,0.0,37.75,37.75\n",
            "2019-01-03,2019,1,3,Thursday,00,2019-00,35.99,36.43,35.5,35.55,365248800,33.99,-0.09960714259368753,35.870000000000005,35.870000000000005\n",
            "2019-01-04,2019,1,4,Friday,00,2019-00,36.13,37.14,35.95,37.06,234428400,35.44,0.042689154927095796,35.72666666666667,35.72666666666667\n",
            "2019-01-07,2019,1,7,Monday,01,2019-01,37.17,37.21,36.47,36.98,219111200,35.36,-0.0022259009624761017,35.635,35.635\n"
          ]
        }
      ]
    }
  ]
}